{
 "cells": [
  {
   "cell_type": "markdown",
   "id": "998757a4",
   "metadata": {},
   "source": [
    "### PCA in Machine Learning Workflows\n",
    "#### Machine Learning I - Maestría en Analítica Aplicada\n",
    "#### Universidad de la Sabana\n",
    "#### Prof: Hugo Franco\n",
    "#### Example: XGBoost"
   ]
  },
  {
   "cell_type": "code",
   "execution_count": null,
   "id": "29193953",
   "metadata": {},
   "outputs": [],
   "source": [
    "import pandas as pd\n",
    "import numpy as np\n",
    "from sklearn.model_selection import train_test_split\n",
    "from sklearn.preprocessing import LabelEncoder\n",
    "from sklearn.metrics import accuracy_score, classification_report\n",
    "from xgboost import XGBClassifier\n",
    "from xgboost import plot_importance  # For feature importance visualization\n",
    "import matplotlib.pyplot as plt"
   ]
  },
  {
   "cell_type": "code",
   "execution_count": null,
   "id": "4916e0c7",
   "metadata": {},
   "outputs": [],
   "source": [
    "df = pd.read_csv(\"iris.csv\")\n",
    "print(df.head())\n",
    "\n",
    "print(\"\\nColumns:\", df.columns)\n",
    "\n",
    "X = df.drop(\"Species\", axis=1)\n",
    "y = df[\"Species\"]"
   ]
  },
  {
   "cell_type": "code",
   "execution_count": null,
   "id": "9cd0129b",
   "metadata": {},
   "outputs": [],
   "source": [
    "# Encode string labels to integers\n",
    "le = LabelEncoder()\n",
    "y_encoded = le.fit_transform(y)"
   ]
  },
  {
   "cell_type": "code",
   "execution_count": null,
   "id": "4f1b4ae4",
   "metadata": {},
   "outputs": [],
   "source": [
    "X_train, X_test, y_train, y_test = train_test_split(\n",
    "    X, y_encoded, test_size=0.2, random_state=42, stratify=y_encoded)"
   ]
  },
  {
   "cell_type": "code",
   "execution_count": null,
   "id": "7fec7a04",
   "metadata": {},
   "outputs": [],
   "source": [
    "model = XGBClassifier(\n",
    "    num_class=len(le.classes_), \n",
    "    eval_metric='mlogloss',\n",
    "    use_label_encoder=False,\n",
    "    max_depth=4,\n",
    "    learning_rate=0.3,\n",
    "    n_estimators=100,\n",
    "    random_state=42\n",
    ")\n",
    "\n",
    "model.fit(X_train, y_train)"
   ]
  },
  {
   "cell_type": "code",
   "execution_count": null,
   "id": "66b90782",
   "metadata": {},
   "outputs": [],
   "source": [
    " # Predict class labels\n",
    "y_pred = model.predict(X_test)\n",
    "\n",
    "# Predict class probabilities\n",
    "y_prob = model.predict_proba(X_test)\n",
    "\n",
    "\n",
    "print(\"\\n Accuracy:\", accuracy_score(y_test, y_pred))\n",
    "print(\"\\n Classification Report:\\n\",\n",
    "      classification_report(y_test, y_pred, target_names=le.classes_))\n",
    "\n",
    "print(\"\\n Predicted class labels:\", y_pred[:5])\n",
    "print(\" Actual class labels   :\", y_test[:5])\n",
    "\n",
    "print(\"\\n Predicted probabilities for first 5 samples:\\n\", y_prob[:5])"
   ]
  },
  {
   "cell_type": "code",
   "execution_count": null,
   "id": "34c02d65",
   "metadata": {},
   "outputs": [],
   "source": [
    "plot_importance(model, importance_type='weight', xlabel='F-Score')\n",
    "plt.title(\"Feature Importance (by F-Score)\")\n",
    "plt.show()"
   ]
  }
 ],
 "metadata": {
  "kernelspec": {
   "display_name": "ml1",
   "language": "python",
   "name": "python3"
  },
  "language_info": {
   "codemirror_mode": {
    "name": "ipython",
    "version": 3
   },
   "file_extension": ".py",
   "mimetype": "text/x-python",
   "name": "python",
   "nbconvert_exporter": "python",
   "pygments_lexer": "ipython3",
   "version": "3.11.13"
  }
 },
 "nbformat": 4,
 "nbformat_minor": 5
}
